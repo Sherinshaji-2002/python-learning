{
  "nbformat": 4,
  "nbformat_minor": 0,
  "metadata": {
    "colab": {
      "name": "Untitled4.ipynb",
      "provenance": [],
      "collapsed_sections": []
    },
    "kernelspec": {
      "name": "python3",
      "display_name": "Python 3"
    },
    "language_info": {
      "name": "python"
    }
  },
  "cells": [
    {
      "cell_type": "code",
      "metadata": {
        "colab": {
          "base_uri": "https://localhost:8080/"
        },
        "id": "z506XqJa5vI9",
        "outputId": "fcc093e3-2d01-4230-9ce1-d14b446daeb9"
      },
      "source": [
        "print(\"hello world!\")\n"
      ],
      "execution_count": 2,
      "outputs": [
        {
          "output_type": "stream",
          "text": [
            "hello world!\n"
          ],
          "name": "stdout"
        }
      ]
    },
    {
      "cell_type": "code",
      "metadata": {
        "colab": {
          "base_uri": "https://localhost:8080/"
        },
        "id": "MDno6gKb6ERU",
        "outputId": "34b2d66f-f02b-41ab-aec2-80d653423f7d"
      },
      "source": [
        "a=10\n",
        "print(a )"
      ],
      "execution_count": 4,
      "outputs": [
        {
          "output_type": "stream",
          "text": [
            "10\n"
          ],
          "name": "stdout"
        }
      ]
    },
    {
      "cell_type": "code",
      "metadata": {
        "colab": {
          "base_uri": "https://localhost:8080/"
        },
        "id": "Sl8qQlGa6Peh",
        "outputId": "13d42586-0c61-4959-c773-571c6f3221a0"
      },
      "source": [
        "name=\"sherin\"\n",
        "print(name)"
      ],
      "execution_count": 8,
      "outputs": [
        {
          "output_type": "stream",
          "text": [
            "sherin\n"
          ],
          "name": "stdout"
        }
      ]
    },
    {
      "cell_type": "code",
      "metadata": {
        "colab": {
          "base_uri": "https://localhost:8080/"
        },
        "id": "DsQ86-x-6fog",
        "outputId": "be7c395f-bea3-416f-8028-167bea3bd8bd"
      },
      "source": [
        "a=\"sherin\"\n",
        "print(type(a))\n",
        "b=10\n",
        "print(type(b))\n",
        "c=5.78\n",
        "print(type(c))"
      ],
      "execution_count": 11,
      "outputs": [
        {
          "output_type": "stream",
          "text": [
            "<class 'str'>\n",
            "<class 'int'>\n",
            "<class 'float'>\n"
          ],
          "name": "stdout"
        }
      ]
    },
    {
      "cell_type": "code",
      "metadata": {
        "colab": {
          "base_uri": "https://localhost:8080/"
        },
        "id": "OePom6aN6wkj",
        "outputId": "7a583a21-c046-40e7-aa1c-158ddd11d47f"
      },
      "source": [
        "#boolean\n",
        "python= True\n",
        "java= False\n",
        "print(type(python))"
      ],
      "execution_count": 14,
      "outputs": [
        {
          "output_type": "stream",
          "text": [
            "<class 'bool'>\n"
          ],
          "name": "stdout"
        }
      ]
    },
    {
      "cell_type": "code",
      "metadata": {
        "colab": {
          "base_uri": "https://localhost:8080/"
        },
        "id": "-wgh-wpY7Vp1",
        "outputId": "bc768323-a244-4f37-e6dc-57b671472cda"
      },
      "source": [
        "a=b=c=10\n",
        "print(a,b,c)"
      ],
      "execution_count": 16,
      "outputs": [
        {
          "output_type": "stream",
          "text": [
            "10 10 10\n"
          ],
          "name": "stdout"
        }
      ]
    },
    {
      "cell_type": "code",
      "metadata": {
        "colab": {
          "base_uri": "https://localhost:8080/"
        },
        "id": "hPNJQvlD7ghk",
        "outputId": "b1ab12d6-4a71-44ec-f9e9-2a98a2995560"
      },
      "source": [
        "a,b,c=\"tomato\",\"onion\",\"cabbage\"\n",
        "print(a,b,c)"
      ],
      "execution_count": 18,
      "outputs": [
        {
          "output_type": "stream",
          "text": [
            "tomato onion cabbage\n"
          ],
          "name": "stdout"
        }
      ]
    },
    {
      "cell_type": "code",
      "metadata": {
        "colab": {
          "base_uri": "https://localhost:8080/"
        },
        "id": "DGp_-KJu71IY",
        "outputId": "15942526-da17-4ecf-82f9-47d0d8f7b541"
      },
      "source": [
        "a,b=10,4\n",
        "c=a+b #addition\n",
        "d=a-b #subtration\n",
        "e=a*b #multiplication \n",
        "f=a/b #division\n",
        "g=a%b #modulus\n",
        "h=a//b #floor divider\n",
        "i=a**b #exponentiation\n",
        "print(c,d,e,f,g,h,i)"
      ],
      "execution_count": 23,
      "outputs": [
        {
          "output_type": "stream",
          "text": [
            "14 6 40 2.5 2 2 10000\n"
          ],
          "name": "stdout"
        }
      ]
    },
    {
      "cell_type": "code",
      "metadata": {
        "colab": {
          "base_uri": "https://localhost:8080/"
        },
        "id": "qVqVkTxG9WI4",
        "outputId": "bb8adaf9-d0b7-406a-8fcd-0b2f26c7850e"
      },
      "source": [
        "#assignment operators\n",
        "a=10\n",
        "print(a)\n",
        "a=10\n",
        "\n",
        "a+=4\n",
        "print(a)\n",
        "a=10\n",
        "\n",
        "a-=4\n",
        "print(a)\n",
        "a=10\n",
        "a*=2\n",
        "print(a)\n",
        "a=10\n",
        "a/=2\n",
        "print(a)\n",
        "a=10\n",
        "a//=3\n",
        "print(a)\n",
        "a=10\n",
        "a%=4\n",
        "print(a)\n",
        "a=10\n",
        "a**=4\n",
        "print(a)"
      ],
      "execution_count": 28,
      "outputs": [
        {
          "output_type": "stream",
          "text": [
            "10\n",
            "14\n",
            "6\n",
            "20\n",
            "5.0\n",
            "3\n",
            "2\n",
            "10000\n"
          ],
          "name": "stdout"
        }
      ]
    },
    {
      "cell_type": "code",
      "metadata": {
        "colab": {
          "base_uri": "https://localhost:8080/"
        },
        "id": "haOdPHb4_lgo",
        "outputId": "0d0dea2f-1b4c-4638-ddea-8d89bbd6ab12"
      },
      "source": [
        "a=10 #assignment operator\n",
        "b=4\n",
        "print(a==b)\n",
        "print(a!=b)\n",
        "print(a>b)\n",
        "print(a<b)\n",
        "print(a<=b)\n",
        "print(a>=b)"
      ],
      "execution_count": 31,
      "outputs": [
        {
          "output_type": "stream",
          "text": [
            "False\n",
            "True\n",
            "True\n",
            "False\n",
            "False\n",
            "True\n"
          ],
          "name": "stdout"
        }
      ]
    },
    {
      "cell_type": "code",
      "metadata": {
        "colab": {
          "base_uri": "https://localhost:8080/"
        },
        "id": "UulCbhbnAssN",
        "outputId": "e06d9640-a629-4934-e81f-b03fc50618bf"
      },
      "source": [
        "#logical operator\n",
        "a,b= 10,4\n",
        "print(a==b and a< 15)\n",
        "print(a==b or a>4)\n",
        "print(not (a==b or a>b))"
      ],
      "execution_count": 35,
      "outputs": [
        {
          "output_type": "stream",
          "text": [
            "False\n",
            "True\n",
            "False\n"
          ],
          "name": "stdout"
        }
      ]
    },
    {
      "cell_type": "code",
      "metadata": {
        "colab": {
          "base_uri": "https://localhost:8080/"
        },
        "id": "7bgGzBr6BoB2",
        "outputId": "29fe467f-34a1-4032-f6a7-69eb12a0d1e8"
      },
      "source": [
        "text=\"learn python\"\n",
        "print(text)\n",
        "print(len(text))\n",
        "print(text[0:7])\n",
        "a=\"  sherin\"\n",
        "print(a.strip())\n",
        "print(a.upper())\n",
        "print(a.replace(\"n\",\"j\"))\n",
        "a=\"learn\"\n",
        "b=\" python\"\n",
        "c= a + b\n",
        "print(c)\n",
        "name=\"sherin\"\n",
        "age=19\n",
        "text=\"hi, i am {},I am {} years old\"\n",
        "print(text.format(name,age))"
      ],
      "execution_count": 54,
      "outputs": [
        {
          "output_type": "stream",
          "text": [
            "learn python\n",
            "12\n",
            "learn p\n",
            "sherin\n",
            "  SHERIN\n",
            "  sherij\n",
            "learn python\n",
            "hi, i am sherin,I am 19 years old\n"
          ],
          "name": "stdout"
        }
      ]
    },
    {
      "cell_type": "code",
      "metadata": {
        "id": "jYZGh963CCV9"
      },
      "source": [
        ""
      ],
      "execution_count": null,
      "outputs": []
    }
  ]
}